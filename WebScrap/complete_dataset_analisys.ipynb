{
 "cells": [
  {
   "cell_type": "markdown",
   "metadata": {},
   "source": [
    "### Importing data\n"
   ]
  },
  {
   "cell_type": "code",
   "execution_count": 3,
   "metadata": {},
   "outputs": [
    {
     "data": {
      "text/markdown": [
       "|    | Title                                                               | Fact Check   | Byline                                                                                                                                                                | Date                                   | Author          | Link                                                                      |\n",
       "|---:|:--------------------------------------------------------------------|:-------------|:----------------------------------------------------------------------------------------------------------------------------------------------------------------------|:---------------------------------------|:----------------|:--------------------------------------------------------------------------|\n",
       "|  0 | The Story of Disney Deleting 1-800-SPANK-ME from 'The Santa Clause' | true         | \"Ho ho ho,\" said Santa.                                                                                                                                               | Dec. 23, 2022                          | Jordan Liles    | https://www.snopes.com/fact-check/santa-clause-deleted-scene-1800spankme/ |\n",
       "|  1 | Yes, LA County Granted a Young Girl's Request for a Unicorn License | true         | \"Dear LA County,\" the request began. \"I would like your approval if I can have a unicorn in my backyard if I can find one.\"                                           | Dec. 17, 2022                          | David Emery     | https://www.snopes.com/fact-check/la-county-animal-control-pet-unicorn/   |\n",
       "|  2 | Are More People Killed By Donkeys Than Airplane Crashes Annually?   | legend       | This rumor has been circulating since at least 1987, when it was cited in an article about efforts to help people overcome their fear of flying.                      | Jan. 9, 2002 (Updated: Sept. 28, 2022) | David Mikkelson | https://www.snopes.com/fact-check/donkey-hokey-2/                         |\n",
       "|  3 | Can Poll Workers Invalidate Ballots by Writing on Them?             | false        | A baseless claim went viral on social media, stirring up unwarranted fears about voter fraud.                                                                         | Oct. 13, 2020 (Updated: Oct. 14, 2020) | Dan Evon        | https://www.snopes.com/fact-check/poll-workers-ballots-invalidated/       |\n",
       "|  4 | Did Trump Decry Low-Flow Showers and Dishwashers During a Pandemic? | true         | President Trump ranted about low-flow showers and dishwashers at a campaign rally-like event while the U.S. recorded a record high of COVID-19 cases in a single day. | July 20, 2020                          | David Mikkelson | https://www.snopes.com/fact-check/trump-showers-dishwashers/              |"
      ],
      "text/plain": [
       "<IPython.core.display.Markdown object>"
      ]
     },
     "metadata": {},
     "output_type": "display_data"
    }
   ],
   "source": [
    "import os\n",
    "import pandas as pd\n",
    "from IPython.display import display, Markdown\n",
    "\n",
    "\n",
    "LOCATION = os.getcwd()\n",
    "\n",
    "# Dataset Columns\n",
    "TITLE = \"Title\"\n",
    "FACT_CHECK = \"Fact Check\"\n",
    "BYLINE = \"Byline\"\n",
    "DATE = \"Date\"\n",
    "AUTHOR = \"Author\"\n",
    "LINK = \"Link\"\n",
    "\n",
    "dataset_df = pd.read_csv(os.path.join(LOCATION, \"fake_news_dataset.csv\"))\n",
    "\n",
    "display(Markdown(dataset_df.head(5).to_markdown()))"
   ]
  },
  {
   "cell_type": "markdown",
   "metadata": {},
   "source": [
    "### Verifying all fact check categories"
   ]
  },
  {
   "cell_type": "code",
   "execution_count": 42,
   "metadata": {},
   "outputs": [
    {
     "data": {
      "text/markdown": [
       "| Fact Check                                                          |   Count |\n",
       "|:--------------------------------------------------------------------|--------:|\n",
       "| false                                                               |    2501 |\n",
       "| true                                                                |    1079 |\n",
       "| miscaptioned                                                        |     493 |\n",
       "| mixture                                                             |     470 |\n",
       "| labeled satire                                                      |     394 |\n",
       "| unproven                                                            |     255 |\n",
       "| mostly false                                                        |     209 |\n",
       "| scam                                                                |     197 |\n",
       "| correct attribution                                                 |     132 |\n",
       "| undefined                                                           |     122 |\n",
       "| mostly true                                                         |     122 |\n",
       "| fake                                                                |     112 |\n",
       "| outdated                                                            |      80 |\n",
       "| undetermined                                                        |      65 |\n",
       "| misattributed                                                       |      55 |\n",
       "| originated as satire                                                |      37 |\n",
       "| unfounded                                                           |      23 |\n",
       "| real photographs; inaccurate description                            |      22 |\n",
       "| research in progress                                                |      18 |\n",
       "| real photograph; inaccurate description                             |      17 |\n",
       "| legend                                                              |      16 |\n",
       "| real photograph;  inaccurate description                            |      15 |\n",
       "| multiple — see below                                                |      12 |\n",
       "| partly true                                                         |       9 |\n",
       "| mixture:                                                            |       8 |\n",
       "| real photographs;  inaccurate description                           |       8 |\n",
       "| legit                                                               |       7 |\n",
       "| not any more                                                        |       6 |\n",
       "| hoax                                                                |       4 |\n",
       "| real photos; inaccurate description                                 |       4 |\n",
       "| incorrectly attributed                                              |       3 |\n",
       "| real photo; inaccurate description                                  |       3 |\n",
       "| probably false                                                      |       3 |\n",
       "| real picture; inaccurate description                                |       3 |\n",
       "| real pictures; inaccurate description                               |       2 |\n",
       "| correctly attributed                                                |       2 |\n",
       "| real                                                                |       2 |\n",
       "| real fraud which costs its victims between $200 and $500            |       2 |\n",
       "| multiple:                                                           |       2 |\n",
       "| recall                                                              |       1 |\n",
       "| resolved                                                            |       1 |\n",
       "| two real entries, the others are fiction                            |       1 |\n",
       "| sort of                                                             |       1 |\n",
       "| real photograph;  false description                                 |       1 |\n",
       "| false                                                               |       1 |\n",
       "| real photograph                                                     |       1 |\n",
       "| possible, but not common                                            |       1 |\n",
       "| incomplete                                                          |       1 |\n",
       "| mixed attribution                                                   |       1 |\n",
       "| mixture of correct and  incorrect attributions                      |       1 |\n",
       "| mixture of real and fake images                                     |       1 |\n",
       "| mostly false:                                                       |       1 |\n",
       "| multiple — see below:                                               |       1 |\n",
       "| not quite                                                           |       1 |\n",
       "| probably true                                                       |       1 |\n",
       "| real photo; undetermined description                                |       1 |\n",
       "| real fraud                                                          |       1 |\n",
       "| real fraud which costs its victims around $250                      |       1 |\n",
       "| real fraud which costs its victims hundreds to thousands of dollars |       1 |\n",
       "| real fraud which costs its victims thousands of dollars             |       1 |\n",
       "| real fraud which generally costs its victim between $100 and $1,000 |       1 |\n",
       "| real fraud which generally costs its victims between $200 and $500  |       1 |\n",
       "| real fraud, potential for financial harm unknown                    |       1 |\n",
       "| was true; now outdated                                              |       1 |"
      ],
      "text/plain": [
       "<IPython.core.display.Markdown object>"
      ]
     },
     "metadata": {},
     "output_type": "display_data"
    }
   ],
   "source": [
    "group_by_factcheck = dataset_df.groupby(FACT_CHECK).size().reset_index(name=\"Count\")\n",
    "\n",
    "display(Markdown(group_by_factcheck.sort_values([\"Count\"], ascending=False).to_markdown(index=False)))"
   ]
  },
  {
   "cell_type": "code",
   "execution_count": 53,
   "metadata": {},
   "outputs": [
    {
     "name": "stdout",
     "output_type": "stream",
     "text": [
      "Tabela não normalizada: 6539 registros\n",
      "Tabela normalizada: 5859 registros\n"
     ]
    },
    {
     "data": {
      "text/markdown": [
       "| Fact Check   |   Count |\n",
       "|:-------------|--------:|\n",
       "| false        |    3807 |\n",
       "| true         |    2052 |"
      ],
      "text/plain": [
       "<IPython.core.display.Markdown object>"
      ]
     },
     "metadata": {},
     "output_type": "display_data"
    }
   ],
   "source": [
    "def convert_check(string: str) -> str:\n",
    "    mapping = {\n",
    "        \"correct attribution\":      \"true\",     \"correctly attributed\":     \"true\",\n",
    "        \"legit\":                    \"true\",     \"miscaptioned\":             \"true\",\n",
    "        \"mostly true\":              \"true\",     \"not any more\":             \"true\",\n",
    "        \"partly true\":              \"true\",     \"probably true\":            \"true\",\n",
    "        \"real\":                     \"true\",     \"recall\":                   \"true\",\n",
    "        \"resolved\":                 \"true\",     \"scam\":                     \"true\",\n",
    "        \"false description\":        \"false\",    \"fake\":                     \"false\",\n",
    "        \"hoax\":                     \"false\",    \"inaccurate description\":   \"false\",\n",
    "        \"incorrectly attributed\":   \"false\",    \"labeled satire\":           \"false\",\n",
    "        \"legend\":                   \"false\",    \"misattributed\":            \"false\",\n",
    "        \"mixture\":                  \"false\",    \"mostly false\":             \"false\",\n",
    "        \"mostly false:\":            \"false\",    \"not quite\":                \"false\",\n",
    "        \"originated as satire\":     \"false\",    \"possible, but not common\": \"false\",\n",
    "        \"probably false\":           \"false\",\n",
    "    } \n",
    "    \n",
    "    return mapping.get(string, string)\n",
    "\n",
    "normalized_df = dataset_df.copy(deep=True)\n",
    "normalized_df[FACT_CHECK] = normalized_df[FACT_CHECK].apply(convert_check)\n",
    "filtered_df = normalized_df[(normalized_df[FACT_CHECK] == \"true\") | (normalized_df[FACT_CHECK] == \"false\")]\n",
    "\n",
    "print(f\"Tabela não normalizada: {len(normalized_df)} registros\")\n",
    "print(f\"Tabela normalizada: {len(filtered_df)} registros\")\n",
    "\n",
    "display(Markdown(\n",
    "    filtered_df\n",
    "    .groupby(FACT_CHECK)\n",
    "    .size()\n",
    "    .reset_index(name=\"Count\")\n",
    "    .to_markdown(index=False)\n",
    "))"
   ]
  },
  {
   "cell_type": "code",
   "execution_count": 54,
   "metadata": {},
   "outputs": [],
   "source": [
    "filtered_df.to_csv(os.path.join(LOCATION, \"final_fakenews_dataset.csv\"), index=False)\n"
   ]
  }
 ],
 "metadata": {
  "kernelspec": {
   "display_name": ".venv",
   "language": "python",
   "name": "python3"
  },
  "language_info": {
   "codemirror_mode": {
    "name": "ipython",
    "version": 3
   },
   "file_extension": ".py",
   "mimetype": "text/x-python",
   "name": "python",
   "nbconvert_exporter": "python",
   "pygments_lexer": "ipython3",
   "version": "3.12.3"
  }
 },
 "nbformat": 4,
 "nbformat_minor": 2
}
