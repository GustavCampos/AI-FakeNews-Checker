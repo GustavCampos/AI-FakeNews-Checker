{
 "cells": [
  {
   "cell_type": "markdown",
   "metadata": {},
   "source": [
    "# Importing Libs and Data"
   ]
  },
  {
   "cell_type": "code",
   "execution_count": 14,
   "metadata": {},
   "outputs": [
    {
     "data": {
      "text/html": [
       "<div>\n",
       "<style scoped>\n",
       "    .dataframe tbody tr th:only-of-type {\n",
       "        vertical-align: middle;\n",
       "    }\n",
       "\n",
       "    .dataframe tbody tr th {\n",
       "        vertical-align: top;\n",
       "    }\n",
       "\n",
       "    .dataframe thead th {\n",
       "        text-align: right;\n",
       "    }\n",
       "</style>\n",
       "<table border=\"1\" class=\"dataframe\">\n",
       "  <thead>\n",
       "    <tr style=\"text-align: right;\">\n",
       "      <th></th>\n",
       "      <th>Title</th>\n",
       "      <th>Fact Check</th>\n",
       "    </tr>\n",
       "  </thead>\n",
       "  <tbody>\n",
       "    <tr>\n",
       "      <th>0</th>\n",
       "      <td>hurricane hermine waterspout north carolina</td>\n",
       "      <td>False</td>\n",
       "    </tr>\n",
       "    <tr>\n",
       "      <th>1</th>\n",
       "      <td>bacon sandwich reported offensive facebook</td>\n",
       "      <td>False</td>\n",
       "    </tr>\n",
       "    <tr>\n",
       "      <th>2</th>\n",
       "      <td>facebook scam someone tried log account</td>\n",
       "      <td>True</td>\n",
       "    </tr>\n",
       "    <tr>\n",
       "      <th>3</th>\n",
       "      <td>teens coughing produce disturbing trend us</td>\n",
       "      <td>False</td>\n",
       "    </tr>\n",
       "    <tr>\n",
       "      <th>4</th>\n",
       "      <td>rainbow harpy eagle photo real</td>\n",
       "      <td>False</td>\n",
       "    </tr>\n",
       "  </tbody>\n",
       "</table>\n",
       "</div>"
      ],
      "text/plain": [
       "                                         Title  Fact Check\n",
       "0  hurricane hermine waterspout north carolina       False\n",
       "1   bacon sandwich reported offensive facebook       False\n",
       "2      facebook scam someone tried log account        True\n",
       "3   teens coughing produce disturbing trend us       False\n",
       "4               rainbow harpy eagle photo real       False"
      ]
     },
     "execution_count": 14,
     "metadata": {},
     "output_type": "execute_result"
    }
   ],
   "source": [
    "import joblib\n",
    "import pandas as pd\n",
    "from os.path import join\n",
    "from IPython.display import display, Markdown\n",
    "\n",
    "\n",
    "test_dataset = pd.read_csv(join('data', 'test_dataset.csv'))\n",
    "vectorizer = joblib.load(join(\"models\", \"vectorizer.pkl\"))\n",
    "prediction_model = joblib.load(join(\"models\", \"gnb_model.pkl\"))\n",
    "\n",
    "test_dataset.head()"
   ]
  },
  {
   "cell_type": "markdown",
   "metadata": {},
   "source": [
    "# Testing Model"
   ]
  },
  {
   "cell_type": "code",
   "execution_count": 15,
   "metadata": {},
   "outputs": [
    {
     "name": "stdout",
     "output_type": "stream",
     "text": [
      "('hurricane hermine waterspout north carolina', False) (False, False)\n",
      "('bacon sandwich reported offensive facebook', False) (False, False)\n",
      "('facebook scam someone tried log account', True) (True, True)\n",
      "('teens coughing produce disturbing trend us', False) (False, False)\n",
      "('rainbow harpy eagle photo real', True) (False, True)\n",
      "('kathy hochul nancy pelosis stepsister', False) (False, False)\n",
      "('fallen angel', True) (False, True)\n",
      "('activist shaun king say white jesus statues come', True) (True, True)\n",
      "('old marilyn manson photo real', True) (False, True)\n",
      "('smiling sun smiling birds photo real', False) (False, False)\n"
     ]
    }
   ],
   "source": [
    "y = test_dataset['Fact Check']\n",
    "x = test_dataset['Title']\n",
    "x_vectorize = vectorizer.transform(x)\n",
    "\n",
    "y_pred = prediction_model.predict(x_vectorize.toarray())\n",
    "\n",
    "preds = list(zip(x, y_pred))\n",
    "diffs = list(zip(y, y_pred))\n",
    "for pred, diff in list(zip(preds, diffs))[:10]:\n",
    "    print(pred, diff)"
   ]
  },
  {
   "cell_type": "markdown",
   "metadata": {},
   "source": [
    "## Metrics"
   ]
  },
  {
   "cell_type": "code",
   "execution_count": 17,
   "metadata": {},
   "outputs": [
    {
     "data": {
      "text/markdown": [
       "|                   |   Predito - Verdadeiro |   Predito - Falso |\n",
       "|:------------------|-----------------------:|------------------:|\n",
       "| Real - Verdadeiro |                    607 |               437 |\n",
       "| Real - Falso      |                    776 |              1110 |"
      ],
      "text/plain": [
       "<IPython.core.display.Markdown object>"
      ]
     },
     "metadata": {},
     "output_type": "display_data"
    },
    {
     "name": "stdout",
     "output_type": "stream",
     "text": [
      "Acuracia = 58.6%\n",
      "Especificidade = 58.85%\n",
      "Sensibilidade = 58.14%\n",
      "Precisão = 43.89%\n",
      "Tamanho do conjunto de teste: 2930\n"
     ]
    }
   ],
   "source": [
    "tp = 0\n",
    "tn = 0\n",
    "fp = 0\n",
    "fn = 0\n",
    "\n",
    "for i in diffs:\n",
    "    real = \"1\" if i[0] else \"0\"\n",
    "    predicted = \"1\" if i[1] else \"0\"\n",
    "    matrix = f\"{real}{predicted}\"\n",
    "    match matrix:\n",
    "        case \"11\":\n",
    "            tp += 1\n",
    "        case \"01\":\n",
    "            fp += 1\n",
    "        case \"10\":\n",
    "            fn += 1\n",
    "        case \"00\":\n",
    "            tn += 1\n",
    "\n",
    "matrix = ((tp, fn), (fp, tn))\n",
    "markdownDataframe = pd.DataFrame(matrix, index=[\"Real - Verdadeiro\", \"Real - Falso\"], columns=[\"Predito - Verdadeiro\", \"Predito - Falso\"])\n",
    "\n",
    "display(Markdown(markdownDataframe.to_markdown(index=True)))\n",
    "\n",
    "accuracy = (tp+tn)/len(diffs)\n",
    "specificity = tn/(fp+tn)\n",
    "recall = tp/(tp+fn)\n",
    "precision = tp/(tp+fp)\n",
    "f_score = 2 * ((precision * recall) / (precision + recall))\n",
    "\n",
    "print(f\"Acuracia = {round(accuracy * 100,2)}%\")\n",
    "print(f\"Especificidade = {round(specificity * 100, 2)}%\")\n",
    "print(f\"Sensibilidade = {round(recall * 100, 2)}%\")\n",
    "print(f\"Precisão = {round(precision * 100, 2)}%\")\n",
    "\n",
    "print(f\"Tamanho do conjunto de teste: {tp+tn+fp+fn}\")\n",
    "# accuracy = accuracy_score(y_test, y_pred)\n",
    "# cm = confusion_matrix(y_test, y_pred)\n",
    "# report = classification_report(y_test, y_pred)\n",
    "\n",
    "# print(f'Accuracy: {accuracy}')\n",
    "# print(f'Confusion Matrix: {cm}')\n",
    "# print(f'Classification Report: {report}')"
   ]
  }
 ],
 "metadata": {
  "kernelspec": {
   "display_name": ".venv",
   "language": "python",
   "name": "python3"
  },
  "language_info": {
   "codemirror_mode": {
    "name": "ipython",
    "version": 3
   },
   "file_extension": ".py",
   "mimetype": "text/x-python",
   "name": "python",
   "nbconvert_exporter": "python",
   "pygments_lexer": "ipython3",
   "version": "3.12.3"
  }
 },
 "nbformat": 4,
 "nbformat_minor": 2
}
